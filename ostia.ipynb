{
 "cells": [
  {
   "cell_type": "markdown",
   "metadata": {},
   "source": [
    "# OSTIA algorithm: implementation and tests\n",
    "The algorithm is taken and insignigicantly modified from Colin de la Higuera (2010).\n",
    "\n",
    "Transductions are total function, and for this reason, a symbol \\* is used to indicate the unknown output. The properties of the unknown symbol \\* are:\n",
    "   * Absorbent: concatenation of \\* and another string results in \\*;\n",
    "   * Neutral: longest common prefix (lcp) of A and \\* results in lcp(A).\n",
    "   \n",
    "<img src=\"scheme.png\" width=\"400\"/>"
   ]
  },
  {
   "cell_type": "markdown",
   "metadata": {},
   "source": [
    "# Implementation of OSTIA\n",
    "This section is devoted to implementation of OSTIA. "
   ]
  },
  {
   "cell_type": "markdown",
   "metadata": {},
   "source": [
    "### Transducer's template construction\n",
    "\n",
    "The OSTIA algorithm takes an already constructed transducer as input and fills in the transitions.\n",
    "\n",
    "The next cells builds a transducer template *T*. It has $6$ attributes: *Q* (list of states), $\\Sigma$ (input alphabet), $\\Gamma$ (output alphabet), *qe* (initial state), *E* (list of transitions) and $\\sigma$ (state outputting function)."
   ]
  },
  {
   "cell_type": "code",
   "execution_count": 1,
   "metadata": {},
   "outputs": [],
   "source": [
    "from copy import deepcopy\n",
    "\n",
    "\n",
    "class FST():\n",
    "    ''' Generic container class for the FST-related objects.\n",
    "    * Q: list of states;\n",
    "    * Sigma: input alphabet;\n",
    "    * Gamma: output alphabet;\n",
    "    * qe: initial state (usually \"\");\n",
    "    * E: list of transitions;\n",
    "    * stout: state output dictionary.\n",
    "    '''\n",
    "    \n",
    "    def __init__(self, Sigma=None, Gamma=None):\n",
    "        self.Q = None\n",
    "        self.Sigma = Sigma\n",
    "        self.Gamma = Gamma\n",
    "        self.qe = \"\"\n",
    "        self.E = None\n",
    "        self.stout = None\n",
    "        \n",
    "        \n",
    "    def rewrite(self, w):\n",
    "        ''' Rewrites the string w with respect to the transducer. '''\n",
    "        \n",
    "        if self.Q == None:\n",
    "            raise ValueError(\"The transducer needs to be constructed.\")\n",
    "        \n",
    "        # move through the transducer and write the output\n",
    "        result = \"\"\n",
    "        current_state = \"\"\n",
    "        moved = False\n",
    "        for i in range(len(w)):\n",
    "            for tr in self.E:\n",
    "                if tr[0] == current_state and tr[1] == w[i]:\n",
    "                    result += tr[2]\n",
    "                    current_state, moved = tr[3], True\n",
    "                    break\n",
    "            if moved == False:\n",
    "                raise ValueError(\"This string cannot be read by the current transducer.\")\n",
    "                \n",
    "        # add the final state output\n",
    "        if self.stout[current_state] != \"*\":\n",
    "            result += self.stout[current_state]\n",
    "            \n",
    "        return result\n",
    "                    \n",
    "        \n",
    "        \n",
    "        \n",
    "def copy_fst(T_orig):\n",
    "    ''' We need to be able to do a deep copy of FST in order to backtrack\n",
    "        efficiently when testing if one subtree can be folded into another.\n",
    "    '''\n",
    "    T = FST()\n",
    "    T.Q = deepcopy(T_orig.Q)\n",
    "    T.Sigma = deepcopy(T_orig.Sigma)\n",
    "    T.Gamma = deepcopy(T_orig.Gamma)\n",
    "    T.E = deepcopy(T_orig.E)\n",
    "    T.stout = deepcopy(T_orig.stout)\n",
    "    \n",
    "    return T"
   ]
  },
  {
   "cell_type": "markdown",
   "metadata": {},
   "source": [
    "### Helper functions\n",
    "\n",
    "The cell below defines basic functions used in OSTIA such as ``prefix``, ``lcp``, etc."
   ]
  },
  {
   "cell_type": "code",
   "execution_count": 2,
   "metadata": {},
   "outputs": [],
   "source": [
    "def prefix(w):\n",
    "    ''' Returns a list os prefixes of a word. '''\n",
    "    \n",
    "    return [w[:i] for i in range(len(w)+1)]\n",
    "\n",
    "\n",
    "\n",
    "def lcp(*args):\n",
    "    ''' Finds longest common prefix of unbounded number of strings strings. '''\n",
    "    \n",
    "    w = list(set(i for i in args if i != \"*\"))\n",
    "    if not w: raise IndexError(\"At least one non-unknown string needs to be provided.\")\n",
    "    \n",
    "    result = \"\"\n",
    "    n = min([len(x) for x in w])\n",
    "    for i in range(n):\n",
    "        if len(set(x[i] for x in w)) == 1: result += w[0][i]\n",
    "        else: break\n",
    "    \n",
    "    return result\n",
    "\n",
    "\n",
    "\n",
    "def remove_from_prefix(w, pref):\n",
    "    ''' Removes a substring from the prefix position of another string. '''\n",
    "    \n",
    "    if w.startswith(pref): return w[len(pref):]\n",
    "    elif w == \"*\": return w\n",
    "    else: raise ValueError(pref + \" is not a prefix of \" + w)"
   ]
  },
  {
   "cell_type": "markdown",
   "metadata": {},
   "source": [
    "### BUILD-PTT\n",
    "\n",
    "BUILD-PTT builds a Prefix Tree Transducer (PTT) based on the data sample. It instantiates the list of states, creates empty transitions, and sets state outputs to the known output if the state corresponds to its corresponding input, or to the unknown symbol \\* otherwise."
   ]
  },
  {
   "cell_type": "code",
   "execution_count": 3,
   "metadata": {},
   "outputs": [],
   "source": [
    "def build_ptt(S, Sigma, Gamma):\n",
    "    \"\"\" Builds a prefix tree transducer based on the data sample. \"\"\"\n",
    "    \n",
    "    # build a template for the transducer\n",
    "    T = FST(Sigma, Gamma)\n",
    "    \n",
    "    # fill in the states of the transducer\n",
    "    T.Q = []\n",
    "    for i in S:\n",
    "        for j in prefix(i[0]):\n",
    "            if j not in T.Q:\n",
    "                T.Q.append(j)\n",
    "                \n",
    "    # fill in the empty transitions\n",
    "    T.E = []\n",
    "    for i in T.Q:\n",
    "        if len(i) >= 1:\n",
    "            T.E.append([i[:-1], i[-1], \"\", i])\n",
    "            \n",
    "    # fill in state outputs\n",
    "    T.stout = {}\n",
    "    for i in T.Q:\n",
    "        for j in S:\n",
    "            if i == j[0]:\n",
    "                T.stout[i] = j[1]\n",
    "        if i not in T.stout:\n",
    "            T.stout[i] = \"*\"\n",
    "    \n",
    "    return T"
   ]
  },
  {
   "cell_type": "markdown",
   "metadata": {},
   "source": [
    "### ONWARD-PTT\n",
    "\n",
    "Takes the previously created PTT ``T`` and makes it onward by pushing every common prefix of every output (state or transitional) closer to the root."
   ]
  },
  {
   "cell_type": "code",
   "execution_count": 4,
   "metadata": {},
   "outputs": [],
   "source": [
    "def onward_ptt(T, q, u):\n",
    "    \"\"\" Makes the PTT onward. \"\"\"\n",
    "    \n",
    "    # going to the leaves of the transducer and trying to push as much as possible\n",
    "    for tr in T.E:\n",
    "        if tr[0] == q:\n",
    "            T, q1, w = onward_ptt(T, tr[3], tr[1])\n",
    "            if tr[2] != \"*\":\n",
    "                tr[2] = tr[2] + w\n",
    "    \n",
    "    # find the part of the outputs that can be pushed towards the front\n",
    "    before_pushing = [T.stout[q]]\n",
    "    for tr in T.E:\n",
    "        if tr[0] == q:\n",
    "            before_pushing.append(tr[2])\n",
    "    f = lcp(*before_pushing)\n",
    "    \n",
    "    # pushing the lcp towards the front\n",
    "    if f != \"\":\n",
    "        for tr in T.E:\n",
    "            if tr[0] == q:\n",
    "                tr[2] = remove_from_prefix(tr[2], f)\n",
    "        T.stout[q] = remove_from_prefix(T.stout[q], f)\n",
    "        \n",
    "    return T, q, f"
   ]
  },
  {
   "cell_type": "markdown",
   "metadata": {},
   "source": [
    "### OSTIA-OUTPUTS\n",
    "This funciton compares two string and returns the other string if one of them is unknown (returns `apple` given `apple,*`), either of the strings if they are identical (returns `apple` given `apple, apple` or `*` given `*,*`), or False if they are different (returns `False` given `apple,banana`)."
   ]
  },
  {
   "cell_type": "code",
   "execution_count": 5,
   "metadata": {},
   "outputs": [],
   "source": [
    "def ostia_outputs(w1,w2):\n",
    "    ''' Compares two strings allowing for unknown. '''\n",
    "    \n",
    "    if w1 == \"*\": return w2\n",
    "    elif w2 == \"*\": return w1\n",
    "    elif w1 == w2: return w2\n",
    "    else: return False"
   ]
  },
  {
   "cell_type": "markdown",
   "metadata": {},
   "source": [
    "### OSTIA-PUSHBACK\n",
    "If a state Q2 is being folded into the state Q1, OSTIA-PUSHBACK pushes the non-common suffix from the transitions and state outputs of these two states firther into the subtree of Q1 and Q2. It is needed to check if the folding can be done successfully."
   ]
  },
  {
   "cell_type": "code",
   "execution_count": 6,
   "metadata": {},
   "outputs": [],
   "source": [
    "def ostia_pushback(T_orig, q1, q2, a):\n",
    "    ''' Moves further the part after lcp of two states. '''\n",
    "    \n",
    "    # to avoid rewriting the original transducer\n",
    "    T = copy_fst(T_orig)\n",
    "    \n",
    "    # states where you get if follow a\n",
    "    q1_goes_to = None\n",
    "    q2_goes_to = None\n",
    "    \n",
    "    # what is being written from this state\n",
    "    from_q1, from_2 = None, None\n",
    "    for tr in T.E:\n",
    "        if tr[0] == q1 and tr[1] == a:\n",
    "            from_q1 = tr[2]\n",
    "            q1_goes_to = tr[3]\n",
    "        if tr[0] == q2 and tr[1] == a:\n",
    "            from_q2 = tr[2]\n",
    "            q2_goes_to = tr[3]\n",
    "    if from_q1 == None or from_q2 == None:\n",
    "        raise ValueError(\"One of the states cannot be found.\")\n",
    "    \n",
    "    # find the part after longest common prefix\n",
    "    u = lcp(from_q1, from_q2)\n",
    "    remains_q1 = from_q1[len(u):]\n",
    "    remains_q2 = from_q2[len(u):]\n",
    "    \n",
    "    # assign lcp as current output\n",
    "    for tr in T.E:\n",
    "        if tr[0] in [q1, q2] and tr[1] == a:\n",
    "            tr[2] = u\n",
    "            \n",
    "    # find what the next state writes given any other choice\n",
    "    # and append the common part in it\n",
    "    for tr in T.E:\n",
    "        if tr[0] == q1_goes_to:\n",
    "            tr[2] = remains_q1 + tr[2]\n",
    "        if tr[0] == q2_goes_to:\n",
    "            tr[2] = remains_q2 + tr[2]\n",
    "    \n",
    "    # append common part to the next state's state output\n",
    "    T.stout[q1_goes_to] = remains_q1 + T.stout[q1_goes_to]\n",
    "    T.stout[q2_goes_to] = remains_q2 + T.stout[q2_goes_to]\n",
    "    \n",
    "    return T"
   ]
  },
  {
   "cell_type": "markdown",
   "metadata": {},
   "source": [
    "### OSTIA-MERGE\n",
    "This function merges the states Q1 and Q2, and tries to fold their subtrees into each other. If it is not possible, OSTIA-MERGE backtracks the transducer to its original state and returns `False`."
   ]
  },
  {
   "cell_type": "code",
   "execution_count": 7,
   "metadata": {},
   "outputs": [],
   "source": [
    "def ostia_merge(T_orig, q1, q2):\n",
    "    ''' Redirects all branches to q2 into q1. '''\n",
    "    \n",
    "    # to avoid rewriting the original transducer\n",
    "    T = copy_fst(T_orig)\n",
    "    \n",
    "    # save which transition was changed to revert in case cannot merge the states\n",
    "    changed = None\n",
    "    for tr in T.E:\n",
    "        if tr[3] == q2:\n",
    "            changed = tr[:]\n",
    "            tr[3] = q1\n",
    "            \n",
    "    # save the state output of the q1 originally\n",
    "    changed_stout = T.stout[q1]\n",
    "            \n",
    "    # check if we can merge the states\n",
    "    can_do = ostia_fold(T, q1, q2)\n",
    "    \n",
    "    # if cannot, revert the change\n",
    "    if can_do == False:\n",
    "        for tr in T.E:\n",
    "            if tr[0] == changed[0] and tr[1] == changed[1] and tr[2] == changed[2]:\n",
    "                tr[3] = changed[3]\n",
    "        T.stout[q1] = changed_stout\n",
    "        return False\n",
    "    \n",
    "    # if can, do it\n",
    "    else: return can_do"
   ]
  },
  {
   "cell_type": "markdown",
   "metadata": {},
   "source": [
    "### OSTIA-FOLD\n",
    "This function recursively folds subtrees of Q2 into Q1. If it is possible, it does it, otherwise it reverts the changes and returns `False`.\n",
    "\n",
    "Folding is not possible if the output of Q1 mismatches with the output of Q2, and it is the case when:\n",
    "   * for the same symbol, output of Q1 is not a prefix of the output of Q2;\n",
    "   * state outputs of Q1 and Q2 are different."
   ]
  },
  {
   "cell_type": "code",
   "execution_count": 8,
   "metadata": {},
   "outputs": [],
   "source": [
    "def ostia_fold(T_orig, q1, q2):\n",
    "    ''' Folds recursively subtrees of Q2 into Q1. '''\n",
    "    \n",
    "    # to avoid rewriting the original transducer\n",
    "    T = copy_fst(T_orig)\n",
    "    \n",
    "    # compare the state outputs\n",
    "    w = ostia_outputs(T.stout[q1], T.stout[q2])\n",
    "    if w == False: return False\n",
    "    \n",
    "    # rewrite * in case it's the output of q1\n",
    "    T.stout[q1] = w\n",
    "\n",
    "    # look at every possible subtree of q_2\n",
    "    for a in T.Sigma:\n",
    "        add_new = False\n",
    "\n",
    "        for tr_2 in T.E:\n",
    "            if tr_2[0] == q2 and tr_2[1] == a:\n",
    "                \n",
    "                # if the edge exists from q1\n",
    "                edge_defined = False\n",
    "                for tr_1 in T.E:\n",
    "                    if tr_1[0] == q1 and tr_1[1] == a:\n",
    "                        edge_defined = True\n",
    "                        \n",
    "                        # fail if inconsistent with output of q2\n",
    "                        if tr_1[2] not in prefix(tr_2[2]):\n",
    "                            return False\n",
    "                        \n",
    "                        # move the mismatched suffix of q1 and q2 further\n",
    "                        T = ostia_pushback(T, q1, q2, a)\n",
    "                        T = ostia_fold(T, tr_1[3], tr_2[3])\n",
    "                        if T == False: return False\n",
    "                        \n",
    "                # if the edge doesn't exist from q1 yet, add it\n",
    "                if not edge_defined:\n",
    "                    add_new = [q1, a, tr_2[2], tr_2[3]]\n",
    "        \n",
    "        # if the new transition was constructed, add it to the list of transitions\n",
    "        if add_new:\n",
    "            T.E.append(add_new)\n",
    "    \n",
    "    return T"
   ]
  },
  {
   "cell_type": "markdown",
   "metadata": {},
   "source": [
    "### OSTIA-CLEAN\n",
    "If one just follows OSTIA instructions, the resulting transducer contains non-reachable states because the algorithm doesn't remove them -- they are just not being considered because they're not colored blue or red. The OSTIA-CLEAN function allows to get rid of those states in transitions, state outputs, or in the list of states."
   ]
  },
  {
   "cell_type": "code",
   "execution_count": 9,
   "metadata": {},
   "outputs": [],
   "source": [
    "def ostia_clean(T_orig):\n",
    "    ''' Cleans the resulting transducers by getting rid of the states that were never processed\n",
    "        (i.e. never colored red or blue) -- those states are not reachable from the initial state.\n",
    "    '''\n",
    "    \n",
    "    # to avoid rewriting the original transducer\n",
    "    T = copy_fst(T_orig)\n",
    "    \n",
    "    # determine which states are reachable, i.e. accessible from the initial state\n",
    "    reachable_states = [\"\"]\n",
    "    add = []\n",
    "    change_made = True\n",
    "    while change_made == True:\n",
    "        change_made = False\n",
    "        for st in reachable_states:\n",
    "            for tr in T.E:\n",
    "                if tr[0] == st and tr[3] not in reachable_states and tr[3] not in add:\n",
    "                    add.append(tr[3])\n",
    "                    change_made = True\n",
    "\n",
    "        # break out of the loop if after checking the list once again, no states were added\n",
    "        if change_made == False:\n",
    "            break\n",
    "        else:\n",
    "            reachable_states.extend(add)\n",
    "            add = []\n",
    "            \n",
    "    # clean the list of transitions\n",
    "    new_E = []\n",
    "    for tr in T.E:\n",
    "        if tr[0] in reachable_states and tr[3] in reachable_states:\n",
    "            new_E.append(tr)\n",
    "    T.E = new_E\n",
    "\n",
    "    # clean the dictionary of state outputs\n",
    "    new_stout = {}\n",
    "    for i in T.stout:\n",
    "        if i in reachable_states:\n",
    "            new_stout[i] = T.stout[i]\n",
    "    T.stout = new_stout\n",
    "\n",
    "    # clean the list of states\n",
    "    new_Q = [i for i in T.Q if i in reachable_states]\n",
    "    T.Q = new_Q\n",
    "    \n",
    "    return T"
   ]
  },
  {
   "cell_type": "markdown",
   "metadata": {},
   "source": [
    "### OSTIA\n",
    "Ostia proceeds as following:\n",
    "   1. Create the prefix tree transducer from the input sample S using `build_ptt`;\n",
    "   2. Make that PTT onward using `onward_ptt`;\n",
    "   3. color the initial state *red* and all the states reachable from the initial one *blue*;\n",
    "   4. For every blue state try to merge it with any red state using `ostia_merge` and fold its subtree into the red state:\n",
    "      * if it is possible, do it and remove that blue state from the list of states;\n",
    "      * if it is not possible, color that blue state red;\n",
    "   5. Create an updated list of blue states by listing all the uncolored states that are accessible from the red ones;\n",
    "   6. If the list of blue states is not empty, go to *4*;\n",
    "   7. Clean the resulting transducer from the unaccessible states;\n",
    "   8. Return the trimmed transducer.\n",
    "   \n",
    "**Arguments**:\n",
    "   * S: data sample;\n",
    "   * Sigma: input alphabet;\n",
    "   * Gamma: output alphabet."
   ]
  },
  {
   "cell_type": "code",
   "execution_count": 10,
   "metadata": {},
   "outputs": [],
   "source": [
    "def ostia(S, Sigma, Gamma):\n",
    "    ''' Finds a subsequential transducer that corresponds to the input sample. '''\n",
    "    \n",
    "    # create a template of the onward PTT\n",
    "    T = build_ptt(S, Sigma, Gamma)\n",
    "    T = onward_ptt(T, \"\", \"\")[0]\n",
    "    \n",
    "    # color the nodes\n",
    "    red = [\"\"]\n",
    "    blue = [tr[3] for tr in T.E if tr[0] == \"\" and len(tr[1]) == 1]\n",
    "    \n",
    "    # choose a blue state\n",
    "    while len(blue) != 0:\n",
    "        blue_state = blue[0]\n",
    "\n",
    "        # if exists state that we can merge with, do it\n",
    "        exists = False\n",
    "        for red_state in red:\n",
    "            \n",
    "            # if you already merged that blue state with something, stop\n",
    "            if exists == True: break\n",
    "                \n",
    "            # try to merge these two states\n",
    "            if ostia_merge(T, red_state, blue_state):\n",
    "                T = ostia_merge(T, red_state, blue_state)\n",
    "                exists = True\n",
    "        \n",
    "        # if it is not possible, color that blue state red\n",
    "        if not exists:\n",
    "            red.append(blue_state)\n",
    "            \n",
    "        # if possible, remove the folded state from the list of states\n",
    "        else:\n",
    "            T.Q.remove(blue_state)\n",
    "            del T.stout[blue_state]\n",
    "            \n",
    "        # add in blue list other states accessible from the red ones that are not red\n",
    "        blue = []\n",
    "        for tr in T.E:\n",
    "            if tr[0] in red and tr[3] not in red:\n",
    "                blue.append(tr[3])\n",
    "    \n",
    "    # clean the transducer from non-reachable states\n",
    "    T = ostia_clean(T)\n",
    "                \n",
    "    return T"
   ]
  },
  {
   "cell_type": "markdown",
   "metadata": {},
   "source": [
    "## Experiments with the code"
   ]
  },
  {
   "cell_type": "markdown",
   "metadata": {},
   "source": [
    "#### Experiment 1.\n",
    "The sample `S1` shows the transduction corresponding to $a\\rightarrow 0$, $b\\rightarrow 1$."
   ]
  },
  {
   "cell_type": "code",
   "execution_count": 11,
   "metadata": {},
   "outputs": [],
   "source": [
    "S1 = [(\"ab\", \"01\"), (\"aba\", \"010\"), (\"aaa\", \"000\"), (\"bb\", \"11\"), (\"babb\", \"1011\"), (\"bbaa\", \"1100\"), (\"aa\", \"00\"),\n",
    "     (\"baab\", \"1001\"), (\"ba\", \"10\"), (\"bba\", \"110\"), (\"baa\", \"100\"), (\"bab\", \"101\")]\n",
    "Sigma = [\"a\", \"b\"]\n",
    "Gamma = [\"0\", \"1\"]"
   ]
  },
  {
   "cell_type": "code",
   "execution_count": 12,
   "metadata": {
    "scrolled": true
   },
   "outputs": [
    {
     "name": "stdout",
     "output_type": "stream",
     "text": [
      "States: ['']\n",
      "Transitions: [['', 'a', '0', ''], ['', 'b', '1', '']]\n",
      "State outputs: {'': ''}\n"
     ]
    }
   ],
   "source": [
    "T1 = ostia(S1, Sigma, Gamma)\n",
    "print(\"States:\", T1.Q)\n",
    "print(\"Transitions:\", T1.E)\n",
    "print(\"State outputs:\", T1.stout)"
   ]
  },
  {
   "cell_type": "code",
   "execution_count": 13,
   "metadata": {},
   "outputs": [
    {
     "name": "stdout",
     "output_type": "stream",
     "text": [
      "aba ---> 010\n",
      "bbb ---> 111\n",
      "ababa ---> 01010\n",
      "abbaba ---> 011010\n"
     ]
    }
   ],
   "source": [
    "test = [\"aba\", \"bbb\", \"ababa\", \"abbaba\"]\n",
    "for w in test:\n",
    "    print(w, \"--->\", T1.rewrite(w))"
   ]
  },
  {
   "cell_type": "markdown",
   "metadata": {},
   "source": [
    "#### Experiment 2: from Colin de la Higuera (2010)\n",
    "The sample `S2` shows the transduction corresponding to $b\\rightarrow 1$ and $a\\rightarrow 0$ unless $a$ is final, in this case $a\\rightarrow 1$."
   ]
  },
  {
   "cell_type": "code",
   "execution_count": 14,
   "metadata": {},
   "outputs": [],
   "source": [
    "S2 = [(\"b\", \"1\"), (\"a\", \"1\"), (\"ab\", \"01\"), (\"abb\", \"011\"), (\"bb\", \"11\"), (\"aa\", \"01\"), \n",
    "     (\"aaa\", \"001\"), (\"aabaab\", \"001001\"), (\"aab\", \"001\"), (\"aaba\", \"0011\"), (\"aabaa\", \"00101\")]\n",
    "Sigma = [\"a\", \"b\"]\n",
    "Gamma = [\"0\", \"1\"]"
   ]
  },
  {
   "cell_type": "code",
   "execution_count": 15,
   "metadata": {},
   "outputs": [
    {
     "name": "stdout",
     "output_type": "stream",
     "text": [
      "States: ['', 'a']\n",
      "Transitions: [['', 'b', '1', ''], ['', 'a', '', 'a'], ['a', 'b', '01', ''], ['a', 'a', '0', 'a']]\n",
      "State outputs: {'': '', 'a': '1'}\n"
     ]
    }
   ],
   "source": [
    "T2 = ostia(S2, Sigma, Gamma)\n",
    "print(\"States:\", T2.Q)\n",
    "print(\"Transitions:\", T2.E)\n",
    "print(\"State outputs:\", T2.stout)"
   ]
  },
  {
   "cell_type": "code",
   "execution_count": 16,
   "metadata": {},
   "outputs": [
    {
     "name": "stdout",
     "output_type": "stream",
     "text": [
      "aba ---> 011\n",
      "bbb ---> 111\n",
      "ababa ---> 01011\n",
      "abbaba ---> 011011\n"
     ]
    }
   ],
   "source": [
    "test = [\"aba\", \"bbb\", \"ababa\", \"abbaba\"]\n",
    "for w in test:\n",
    "    print(w, \"--->\", T2.rewrite(w))"
   ]
  }
 ],
 "metadata": {
  "kernelspec": {
   "display_name": "Python 3",
   "language": "python",
   "name": "python3"
  },
  "language_info": {
   "codemirror_mode": {
    "name": "ipython",
    "version": 3
   },
   "file_extension": ".py",
   "mimetype": "text/x-python",
   "name": "python",
   "nbconvert_exporter": "python",
   "pygments_lexer": "ipython3",
   "version": "3.6.7"
  }
 },
 "nbformat": 4,
 "nbformat_minor": 2
}
